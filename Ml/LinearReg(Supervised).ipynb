{
  "cells": [
    {
      "cell_type": "markdown",
      "metadata": {
        "id": "Zt2741lz0yme"
      },
      "source": [
        "**Linear Regression (Supervised Learning - Regression)**\n",
        "\n",
        "**Task:** Predict a continuous value (e.g., house prices).\n",
        "\n",
        "**Dataset:** California Housing Dataset (built into scikit-learn)."
      ]
    },
    {
      "cell_type": "code",
      "execution_count": 1,
      "metadata": {
        "colab": {
          "base_uri": "https://localhost:8080/"
        },
        "id": "n1a1B6V40NH6",
        "outputId": "d1747102-4c99-453a-9f75-1b87893bf06f"
      },
      "outputs": [
        {
          "name": "stdout",
          "output_type": "stream",
          "text": [
            "Mean Squared Error (MSE): 0.5558915986952422\n"
          ]
        }
      ],
      "source": [
        "# Import necessary libraries\n",
        "from sklearn.datasets import fetch_california_housing  # To load the California housing dataset\n",
        "from sklearn.model_selection import train_test_split  # To split the dataset into training and testing sets\n",
        "from sklearn.linear_model import LinearRegression  # To create and train a Linear Regression model\n",
        "from sklearn.metrics import mean_squared_error  # To evaluate the model's performance\n",
        "import numpy as np  # To handle numerical operations\n",
        "\n",
        "# Step 1: Load the California Housing dataset\n",
        "data = fetch_california_housing()  # Fetches the dataset, which contains house prices and related features\n",
        "\n",
        "# Step 2: Extract features (X) and target variable (y)\n",
        "X = data.data  # Features (e.g., population, median income, house age, etc.)\n",
        "y = data.target  # Target variable (median house value in $100,000s)\n",
        "\n",
        "# Step 3: Split the dataset into training and testing sets\n",
        "X_train, X_test, y_train, y_test = train_test_split(X, y, test_size=0.2, random_state=42)\n",
        "# `test_size=0.2` means 20% of the data is used for testing, 80% for training\n",
        "# `random_state=42` ensures reproducibility, so the same data split happens every time the code runs\n",
        "\n",
        "# Step 4: Create and train a Linear Regression model\n",
        "model = LinearRegression()  # Initializes the Linear Regression model\n",
        "model.fit(X_train, y_train)  # Trains the model using the training data (X_train, y_train)\n",
        "\n",
        "# Step 5: Make predictions on the test data\n",
        "y_pred = model.predict(X_test)  # Uses the trained model to predict house prices for the test set\n",
        "\n",
        "# Step 6: Evaluate the model using Mean Squared Error (MSE)\n",
        "mse = mean_squared_error(y_test, y_pred)  # Calculates the average squared difference between actual and predicted values\n",
        "print(\"Mean Squared Error (MSE):\", mse)  # Prints the error value\n",
        "\n",
        "# To prevent potential overflow issues, convert predictions to a NumPy array\n",
        "y_pred = np.array(y_pred)\n"
      ]
    },
    {
      "cell_type": "markdown",
      "metadata": {},
      "source": [
        "**Task:**\n",
        "1. Predict Car Prices using a Custom Dataset\n",
        "2. Salary Prediction based on Experience\n",
        "3. House Price Prediction with Feature Engineering\n",
        "    \n",
        "    \n",
        "    Create new features:\n",
        "\n",
        "    Price per Room = MedianHouseValue / TotalRooms\n",
        "    \n",
        "    Age Factor = HouseAge / 10\n",
        "\n",
        "\n",
        "**Use Datasets From Kaggle,HuggingFace**"
      ]
    }
  ],
  "metadata": {
    "colab": {
      "provenance": []
    },
    "kernelspec": {
      "display_name": "Python 3",
      "name": "python3"
    },
    "language_info": {
      "name": "python"
    }
  },
  "nbformat": 4,
  "nbformat_minor": 0
}
